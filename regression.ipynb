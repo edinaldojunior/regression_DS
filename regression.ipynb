{
 "cells": [
  {
   "cell_type": "code",
   "execution_count": 1,
   "metadata": {},
   "outputs": [],
   "source": [
    "import pandas as pd\n",
    "import numpy as np \n",
    "import xgboost as xgb \n",
    "from sklearn.datasets import load_boston \n",
    "from sklearn.model_selection import train_test_split \n",
    "from sklearn.metrics import mean_squared_error\n",
    "from  sklearn.metrics  import r2_score\n",
    "from math import sqrt\n",
    "import matplotlib.pyplot as plt\n",
    "import seaborn as sns"
   ]
  },
  {
   "cell_type": "markdown",
   "metadata": {},
   "source": [
    "# 1. Importação e Leitura dos Dados"
   ]
  },
  {
   "cell_type": "code",
   "execution_count": 2,
   "metadata": {},
   "outputs": [],
   "source": [
    "df_train = pd.read_csv('regression_train.csv')\n",
    "df_test = pd.read_csv('regression_test.csv')"
   ]
  },
  {
   "cell_type": "markdown",
   "metadata": {},
   "source": [
    "# 2. Análise dos Dados"
   ]
  },
  {
   "cell_type": "markdown",
   "metadata": {},
   "source": [
    "A seguir, é possível visualizar os 5 primeiros registros do conjunto de dados de treino, para analisar o comportamento e formatação dos valores."
   ]
  },
  {
   "cell_type": "code",
   "execution_count": 3,
   "metadata": {},
   "outputs": [
    {
     "data": {
      "text/html": [
       "<div>\n",
       "<style scoped>\n",
       "    .dataframe tbody tr th:only-of-type {\n",
       "        vertical-align: middle;\n",
       "    }\n",
       "\n",
       "    .dataframe tbody tr th {\n",
       "        vertical-align: top;\n",
       "    }\n",
       "\n",
       "    .dataframe thead th {\n",
       "        text-align: right;\n",
       "    }\n",
       "</style>\n",
       "<table border=\"1\" class=\"dataframe\">\n",
       "  <thead>\n",
       "    <tr style=\"text-align: right;\">\n",
       "      <th></th>\n",
       "      <th>target</th>\n",
       "      <th>X1</th>\n",
       "      <th>X2</th>\n",
       "      <th>X3</th>\n",
       "      <th>X4</th>\n",
       "      <th>X5</th>\n",
       "      <th>X6</th>\n",
       "      <th>X7</th>\n",
       "    </tr>\n",
       "  </thead>\n",
       "  <tbody>\n",
       "    <tr>\n",
       "      <td>0</td>\n",
       "      <td>NaN</td>\n",
       "      <td>-0.546168</td>\n",
       "      <td>NaN</td>\n",
       "      <td>47.063305</td>\n",
       "      <td>1.611370</td>\n",
       "      <td>-65.882137</td>\n",
       "      <td>0</td>\n",
       "      <td>-16.672865</td>\n",
       "    </tr>\n",
       "    <tr>\n",
       "      <td>1</td>\n",
       "      <td>47.735389</td>\n",
       "      <td>3.074317</td>\n",
       "      <td>-2.836000</td>\n",
       "      <td>49.396649</td>\n",
       "      <td>0.261998</td>\n",
       "      <td>-66.570716</td>\n",
       "      <td>0</td>\n",
       "      <td>-6.664599</td>\n",
       "    </tr>\n",
       "    <tr>\n",
       "      <td>2</td>\n",
       "      <td>NaN</td>\n",
       "      <td>-1.485531</td>\n",
       "      <td>-13.102537</td>\n",
       "      <td>42.367991</td>\n",
       "      <td>3.991558</td>\n",
       "      <td>-67.108014</td>\n",
       "      <td>8</td>\n",
       "      <td>-30.790962</td>\n",
       "    </tr>\n",
       "    <tr>\n",
       "      <td>3</td>\n",
       "      <td>908.202209</td>\n",
       "      <td>6.907396</td>\n",
       "      <td>-0.308967</td>\n",
       "      <td>57.228787</td>\n",
       "      <td>0.256771</td>\n",
       "      <td>-66.181266</td>\n",
       "      <td>5</td>\n",
       "      <td>-0.726072</td>\n",
       "    </tr>\n",
       "    <tr>\n",
       "      <td>4</td>\n",
       "      <td>1640.461863</td>\n",
       "      <td>1.916788</td>\n",
       "      <td>3.460290</td>\n",
       "      <td>51.703375</td>\n",
       "      <td>2.463790</td>\n",
       "      <td>-65.143663</td>\n",
       "      <td>5</td>\n",
       "      <td>8.131680</td>\n",
       "    </tr>\n",
       "  </tbody>\n",
       "</table>\n",
       "</div>"
      ],
      "text/plain": [
       "        target        X1         X2         X3        X4         X5  X6  \\\n",
       "0          NaN -0.546168        NaN  47.063305  1.611370 -65.882137   0   \n",
       "1    47.735389  3.074317  -2.836000  49.396649  0.261998 -66.570716   0   \n",
       "2          NaN -1.485531 -13.102537  42.367991  3.991558 -67.108014   8   \n",
       "3   908.202209  6.907396  -0.308967  57.228787  0.256771 -66.181266   5   \n",
       "4  1640.461863  1.916788   3.460290  51.703375  2.463790 -65.143663   5   \n",
       "\n",
       "          X7  \n",
       "0 -16.672865  \n",
       "1  -6.664599  \n",
       "2 -30.790962  \n",
       "3  -0.726072  \n",
       "4   8.131680  "
      ]
     },
     "execution_count": 3,
     "metadata": {},
     "output_type": "execute_result"
    }
   ],
   "source": [
    "df_train.head()"
   ]
  },
  {
   "cell_type": "markdown",
   "metadata": {},
   "source": [
    "Também serão utilizados os métodos .describe() e .info(), para analisar os valores de cada variável, tanto na base de treino quanto na base de teste."
   ]
  },
  {
   "cell_type": "code",
   "execution_count": 4,
   "metadata": {},
   "outputs": [
    {
     "data": {
      "text/html": [
       "<div>\n",
       "<style scoped>\n",
       "    .dataframe tbody tr th:only-of-type {\n",
       "        vertical-align: middle;\n",
       "    }\n",
       "\n",
       "    .dataframe tbody tr th {\n",
       "        vertical-align: top;\n",
       "    }\n",
       "\n",
       "    .dataframe thead th {\n",
       "        text-align: right;\n",
       "    }\n",
       "</style>\n",
       "<table border=\"1\" class=\"dataframe\">\n",
       "  <thead>\n",
       "    <tr style=\"text-align: right;\">\n",
       "      <th></th>\n",
       "      <th>target</th>\n",
       "      <th>X1</th>\n",
       "      <th>X2</th>\n",
       "      <th>X3</th>\n",
       "      <th>X4</th>\n",
       "      <th>X5</th>\n",
       "      <th>X6</th>\n",
       "      <th>X7</th>\n",
       "    </tr>\n",
       "  </thead>\n",
       "  <tbody>\n",
       "    <tr>\n",
       "      <td>count</td>\n",
       "      <td>715.000000</td>\n",
       "      <td>1042.000000</td>\n",
       "      <td>1031.000000</td>\n",
       "      <td>1042.000000</td>\n",
       "      <td>1042.000000</td>\n",
       "      <td>1042.000000</td>\n",
       "      <td>1042.000000</td>\n",
       "      <td>1042.000000</td>\n",
       "    </tr>\n",
       "    <tr>\n",
       "      <td>mean</td>\n",
       "      <td>1349.940229</td>\n",
       "      <td>2.421925</td>\n",
       "      <td>-0.460781</td>\n",
       "      <td>52.094329</td>\n",
       "      <td>2.462871</td>\n",
       "      <td>-65.284233</td>\n",
       "      <td>4.381958</td>\n",
       "      <td>-1.287435</td>\n",
       "    </tr>\n",
       "    <tr>\n",
       "      <td>std</td>\n",
       "      <td>1593.201095</td>\n",
       "      <td>3.182976</td>\n",
       "      <td>4.426286</td>\n",
       "      <td>31.374828</td>\n",
       "      <td>2.541632</td>\n",
       "      <td>9.033489</td>\n",
       "      <td>3.290306</td>\n",
       "      <td>11.066380</td>\n",
       "    </tr>\n",
       "    <tr>\n",
       "      <td>min</td>\n",
       "      <td>0.062551</td>\n",
       "      <td>-8.699406</td>\n",
       "      <td>-13.651540</td>\n",
       "      <td>38.035456</td>\n",
       "      <td>0.002360</td>\n",
       "      <td>-121.450423</td>\n",
       "      <td>0.000000</td>\n",
       "      <td>-69.835905</td>\n",
       "    </tr>\n",
       "    <tr>\n",
       "      <td>25%</td>\n",
       "      <td>230.632308</td>\n",
       "      <td>0.170590</td>\n",
       "      <td>-3.307931</td>\n",
       "      <td>47.087106</td>\n",
       "      <td>0.671196</td>\n",
       "      <td>-69.126630</td>\n",
       "      <td>0.000000</td>\n",
       "      <td>-7.830007</td>\n",
       "    </tr>\n",
       "    <tr>\n",
       "      <td>50%</td>\n",
       "      <td>808.374368</td>\n",
       "      <td>2.508671</td>\n",
       "      <td>-0.461150</td>\n",
       "      <td>49.972867</td>\n",
       "      <td>1.652609</td>\n",
       "      <td>-65.360660</td>\n",
       "      <td>5.000000</td>\n",
       "      <td>-1.074191</td>\n",
       "    </tr>\n",
       "    <tr>\n",
       "      <td>75%</td>\n",
       "      <td>1849.754221</td>\n",
       "      <td>4.540218</td>\n",
       "      <td>2.406651</td>\n",
       "      <td>52.674305</td>\n",
       "      <td>3.361181</td>\n",
       "      <td>-61.187635</td>\n",
       "      <td>8.000000</td>\n",
       "      <td>5.659476</td>\n",
       "    </tr>\n",
       "    <tr>\n",
       "      <td>max</td>\n",
       "      <td>10382.469480</td>\n",
       "      <td>12.380693</td>\n",
       "      <td>12.926106</td>\n",
       "      <td>500.000000</td>\n",
       "      <td>18.813009</td>\n",
       "      <td>53.919202</td>\n",
       "      <td>8.000000</td>\n",
       "      <td>30.376348</td>\n",
       "    </tr>\n",
       "  </tbody>\n",
       "</table>\n",
       "</div>"
      ],
      "text/plain": [
       "             target           X1           X2           X3           X4  \\\n",
       "count    715.000000  1042.000000  1031.000000  1042.000000  1042.000000   \n",
       "mean    1349.940229     2.421925    -0.460781    52.094329     2.462871   \n",
       "std     1593.201095     3.182976     4.426286    31.374828     2.541632   \n",
       "min        0.062551    -8.699406   -13.651540    38.035456     0.002360   \n",
       "25%      230.632308     0.170590    -3.307931    47.087106     0.671196   \n",
       "50%      808.374368     2.508671    -0.461150    49.972867     1.652609   \n",
       "75%     1849.754221     4.540218     2.406651    52.674305     3.361181   \n",
       "max    10382.469480    12.380693    12.926106   500.000000    18.813009   \n",
       "\n",
       "                X5           X6           X7  \n",
       "count  1042.000000  1042.000000  1042.000000  \n",
       "mean    -65.284233     4.381958    -1.287435  \n",
       "std       9.033489     3.290306    11.066380  \n",
       "min    -121.450423     0.000000   -69.835905  \n",
       "25%     -69.126630     0.000000    -7.830007  \n",
       "50%     -65.360660     5.000000    -1.074191  \n",
       "75%     -61.187635     8.000000     5.659476  \n",
       "max      53.919202     8.000000    30.376348  "
      ]
     },
     "execution_count": 4,
     "metadata": {},
     "output_type": "execute_result"
    }
   ],
   "source": [
    "df_train.describe()"
   ]
  },
  {
   "cell_type": "code",
   "execution_count": 5,
   "metadata": {},
   "outputs": [
    {
     "data": {
      "text/html": [
       "<div>\n",
       "<style scoped>\n",
       "    .dataframe tbody tr th:only-of-type {\n",
       "        vertical-align: middle;\n",
       "    }\n",
       "\n",
       "    .dataframe tbody tr th {\n",
       "        vertical-align: top;\n",
       "    }\n",
       "\n",
       "    .dataframe thead th {\n",
       "        text-align: right;\n",
       "    }\n",
       "</style>\n",
       "<table border=\"1\" class=\"dataframe\">\n",
       "  <thead>\n",
       "    <tr style=\"text-align: right;\">\n",
       "      <th></th>\n",
       "      <th>target</th>\n",
       "      <th>X1</th>\n",
       "      <th>X2</th>\n",
       "      <th>X3</th>\n",
       "      <th>X4</th>\n",
       "      <th>X5</th>\n",
       "      <th>X6</th>\n",
       "      <th>X7</th>\n",
       "    </tr>\n",
       "  </thead>\n",
       "  <tbody>\n",
       "    <tr>\n",
       "      <td>count</td>\n",
       "      <td>180.000000</td>\n",
       "      <td>261.000000</td>\n",
       "      <td>261.000000</td>\n",
       "      <td>261.000000</td>\n",
       "      <td>261.000000</td>\n",
       "      <td>261.000000</td>\n",
       "      <td>261.000000</td>\n",
       "      <td>261.000000</td>\n",
       "    </tr>\n",
       "    <tr>\n",
       "      <td>mean</td>\n",
       "      <td>1083.167620</td>\n",
       "      <td>2.118804</td>\n",
       "      <td>-0.729926</td>\n",
       "      <td>50.019371</td>\n",
       "      <td>2.570686</td>\n",
       "      <td>-65.634193</td>\n",
       "      <td>4.153257</td>\n",
       "      <td>-1.896956</td>\n",
       "    </tr>\n",
       "    <tr>\n",
       "      <td>std</td>\n",
       "      <td>1266.764414</td>\n",
       "      <td>2.924070</td>\n",
       "      <td>4.065920</td>\n",
       "      <td>4.109684</td>\n",
       "      <td>2.456733</td>\n",
       "      <td>7.827388</td>\n",
       "      <td>3.345416</td>\n",
       "      <td>10.133573</td>\n",
       "    </tr>\n",
       "    <tr>\n",
       "      <td>min</td>\n",
       "      <td>0.619759</td>\n",
       "      <td>-7.187993</td>\n",
       "      <td>-12.530861</td>\n",
       "      <td>38.282205</td>\n",
       "      <td>0.017793</td>\n",
       "      <td>-123.280755</td>\n",
       "      <td>0.000000</td>\n",
       "      <td>-56.751775</td>\n",
       "    </tr>\n",
       "    <tr>\n",
       "      <td>25%</td>\n",
       "      <td>203.306229</td>\n",
       "      <td>0.220241</td>\n",
       "      <td>-3.113019</td>\n",
       "      <td>47.368662</td>\n",
       "      <td>0.798704</td>\n",
       "      <td>-69.361831</td>\n",
       "      <td>0.000000</td>\n",
       "      <td>-7.315595</td>\n",
       "    </tr>\n",
       "    <tr>\n",
       "      <td>50%</td>\n",
       "      <td>623.905972</td>\n",
       "      <td>2.038765</td>\n",
       "      <td>-0.816475</td>\n",
       "      <td>50.070453</td>\n",
       "      <td>1.824582</td>\n",
       "      <td>-65.517502</td>\n",
       "      <td>5.000000</td>\n",
       "      <td>-1.918715</td>\n",
       "    </tr>\n",
       "    <tr>\n",
       "      <td>75%</td>\n",
       "      <td>1522.742335</td>\n",
       "      <td>4.008733</td>\n",
       "      <td>1.836272</td>\n",
       "      <td>52.659709</td>\n",
       "      <td>3.587555</td>\n",
       "      <td>-61.681399</td>\n",
       "      <td>8.000000</td>\n",
       "      <td>4.315239</td>\n",
       "    </tr>\n",
       "    <tr>\n",
       "      <td>max</td>\n",
       "      <td>8270.877273</td>\n",
       "      <td>9.586412</td>\n",
       "      <td>11.610249</td>\n",
       "      <td>65.704951</td>\n",
       "      <td>16.798910</td>\n",
       "      <td>-43.237419</td>\n",
       "      <td>8.000000</td>\n",
       "      <td>27.284085</td>\n",
       "    </tr>\n",
       "  </tbody>\n",
       "</table>\n",
       "</div>"
      ],
      "text/plain": [
       "            target          X1          X2          X3          X4  \\\n",
       "count   180.000000  261.000000  261.000000  261.000000  261.000000   \n",
       "mean   1083.167620    2.118804   -0.729926   50.019371    2.570686   \n",
       "std    1266.764414    2.924070    4.065920    4.109684    2.456733   \n",
       "min       0.619759   -7.187993  -12.530861   38.282205    0.017793   \n",
       "25%     203.306229    0.220241   -3.113019   47.368662    0.798704   \n",
       "50%     623.905972    2.038765   -0.816475   50.070453    1.824582   \n",
       "75%    1522.742335    4.008733    1.836272   52.659709    3.587555   \n",
       "max    8270.877273    9.586412   11.610249   65.704951   16.798910   \n",
       "\n",
       "               X5          X6          X7  \n",
       "count  261.000000  261.000000  261.000000  \n",
       "mean   -65.634193    4.153257   -1.896956  \n",
       "std      7.827388    3.345416   10.133573  \n",
       "min   -123.280755    0.000000  -56.751775  \n",
       "25%    -69.361831    0.000000   -7.315595  \n",
       "50%    -65.517502    5.000000   -1.918715  \n",
       "75%    -61.681399    8.000000    4.315239  \n",
       "max    -43.237419    8.000000   27.284085  "
      ]
     },
     "execution_count": 5,
     "metadata": {},
     "output_type": "execute_result"
    }
   ],
   "source": [
    "df_test.describe()"
   ]
  },
  {
   "cell_type": "code",
   "execution_count": 6,
   "metadata": {},
   "outputs": [
    {
     "name": "stdout",
     "output_type": "stream",
     "text": [
      "<class 'pandas.core.frame.DataFrame'>\n",
      "RangeIndex: 1042 entries, 0 to 1041\n",
      "Data columns (total 8 columns):\n",
      "target    715 non-null float64\n",
      "X1        1042 non-null float64\n",
      "X2        1031 non-null float64\n",
      "X3        1042 non-null float64\n",
      "X4        1042 non-null float64\n",
      "X5        1042 non-null float64\n",
      "X6        1042 non-null int64\n",
      "X7        1042 non-null float64\n",
      "dtypes: float64(7), int64(1)\n",
      "memory usage: 65.2 KB\n"
     ]
    }
   ],
   "source": [
    "df_train.info()"
   ]
  },
  {
   "cell_type": "code",
   "execution_count": 7,
   "metadata": {},
   "outputs": [
    {
     "name": "stdout",
     "output_type": "stream",
     "text": [
      "<class 'pandas.core.frame.DataFrame'>\n",
      "RangeIndex: 261 entries, 0 to 260\n",
      "Data columns (total 8 columns):\n",
      "target    180 non-null float64\n",
      "X1        261 non-null float64\n",
      "X2        261 non-null float64\n",
      "X3        261 non-null float64\n",
      "X4        261 non-null float64\n",
      "X5        261 non-null float64\n",
      "X6        261 non-null int64\n",
      "X7        261 non-null float64\n",
      "dtypes: float64(7), int64(1)\n",
      "memory usage: 16.4 KB\n"
     ]
    }
   ],
   "source": [
    "df_test.info()"
   ]
  },
  {
   "cell_type": "markdown",
   "metadata": {},
   "source": [
    "Com as informações mostradas acima, é possível visualizar há valores nulos tanto na variável \"target\" quanto na variável \"X2\". Apesar do modelo escolhido, XGboost, conseguir trabalhar com valores ausentes, esses valores podem atrapalhar a previsão, por isto, será necessário eliminar esses valores só data frame."
   ]
  },
  {
   "cell_type": "code",
   "execution_count": 8,
   "metadata": {},
   "outputs": [],
   "source": [
    "df_train = df_train.dropna(subset=['X2','target'])\n",
    "df_test = df_test.dropna(subset=['target'])"
   ]
  },
  {
   "cell_type": "markdown",
   "metadata": {},
   "source": [
    "Agora será preciso dividir os data frames em variáveis independentes e dependentes. Abaixo pode observado o processo."
   ]
  },
  {
   "cell_type": "code",
   "execution_count": 9,
   "metadata": {},
   "outputs": [],
   "source": [
    "# Variáveis de Treino\n",
    "X_train = df_train[['X1', 'X2', 'X3', 'X4', 'X5', 'X6', 'X7']]\n",
    "y_train = df_train['target']\n",
    "# Variáveis de Teste\n",
    "X_test = df_test[['X1', 'X2', 'X3', 'X4', 'X5', 'X6', 'X7']]\n",
    "y_test = df_test['target']"
   ]
  },
  {
   "cell_type": "markdown",
   "metadata": {},
   "source": [
    "Como o modelo utilizado é baseado em árvores e não em distâncias, não é necessário realizar a normalização dos valores."
   ]
  },
  {
   "cell_type": "markdown",
   "metadata": {},
   "source": [
    "# 3. Treinamento\n",
    "\n",
    "Na fase de treinamento, é ideal que se utilize os parâmetros mais adequados para o problema, para evitar overfitting e underfitting, e obter os melhores resultado possíveis. Neste caso, para o modelo proposto, será realizado ajustes nos parâmentros learning_rate, max_depth, n_estimators e min_child_weight. Para avaliar e obter os melhores valores, será utilizada a métrica Root Mean Square Error(RMSE)."
   ]
  },
  {
   "cell_type": "code",
   "execution_count": 10,
   "metadata": {},
   "outputs": [
    {
     "name": "stdout",
     "output_type": "stream",
     "text": [
      "Melhor n_estimators: 0.246 | Melhor RMSE: 98.01107902415909\n"
     ]
    },
    {
     "data": {
      "image/png": "[encoded data removed]",
      "text/plain": [
       "<Figure size 1440x504 with 1 Axes>"
      ]
     },
     "metadata": {
      "needs_background": "light"
     },
     "output_type": "display_data"
    }
   ],
   "source": [
    "# Avaliando o parâmetro learning_rate\n",
    "range_learning_rate = np.arange(0.001,0.3,step=0.001)\n",
    "list_rmse=[]\n",
    "\n",
    "for value in range_learning_rate:\n",
    "    reg_xgb = xgb.XGBRegressor (learning_rate=value)\n",
    "    reg_xgb.fit(X_train, y_train)\n",
    "    y_pred = reg_xgb.predict(X_test)\n",
    "    list_rmse.append(sqrt(mean_squared_error (y_test, y_pred)))\n",
    "    \n",
    "best_rmse=min(list_rmse)\n",
    "index = list_rmse.index(best_rmse)\n",
    "best_learning_rate = range_learning_rate[index]\n",
    "\n",
    "print('Melhor n_estimators: ' + str(best_learning_rate) + ' | Melhor RMSE: '+ str(best_rmse))    \n",
    "\n",
    "plt.figure(figsize=(20,7))\n",
    "sns.lineplot(x=range_learning_rate,y=list_rmse).set_title('RMSE x learning_rate');    "
   ]
  },
  {
   "cell_type": "code",
   "execution_count": 11,
   "metadata": {},
   "outputs": [
    {
     "name": "stdout",
     "output_type": "stream",
     "text": [
      "Melhor max_depth: 3 | Melhor RMSE: 93.20054409516085\n"
     ]
    },
    {
     "data": {
      "image/png": "[encoded data removed]",
      "text/plain": [
       "<Figure size 1440x504 with 1 Axes>"
      ]
     },
     "metadata": {
      "needs_background": "light"
     },
     "output_type": "display_data"
    }
   ],
   "source": [
    "# Avaliando o parâmetro max_depth\n",
    "range_max_depth = np.arange(1,21)\n",
    "list_rmse=[]\n",
    "\n",
    "for value in range_max_depth:\n",
    "    reg_xgb = xgb.XGBRegressor (learning_rate=0.246 ,max_depth=value)\n",
    "    reg_xgb.fit(X_train, y_train)\n",
    "    y_pred = reg_xgb.predict(X_test)\n",
    "    list_rmse.append(sqrt(mean_squared_error (y_test, y_pred)))\n",
    "    \n",
    "best_rmse=min(list_rmse)\n",
    "index = list_rmse.index(best_rmse)\n",
    "best_max_depth = range_max_depth[index]\n",
    "\n",
    "print('Melhor max_depth: ' + str(best_max_depth) + ' | Melhor RMSE: '+ str(best_rmse))    \n",
    "\n",
    "plt.figure(figsize=(20,7))\n",
    "sns.pointplot(x=range_max_depth, y=list_rmse).set_title('RMSE x max_depth');    "
   ]
  },
  {
   "cell_type": "code",
   "execution_count": 12,
   "metadata": {},
   "outputs": [
    {
     "name": "stdout",
     "output_type": "stream",
     "text": [
      "Melhor n_estimators: 970 | Melhor RMSE: 86.4237213743874\n"
     ]
    },
    {
     "data": {
      "image/png": "[encoded data removed]",
      "text/plain": [
       "<Figure size 1440x504 with 1 Axes>"
      ]
     },
     "metadata": {
      "needs_background": "light"
     },
     "output_type": "display_data"
    }
   ],
   "source": [
    "# Avaliando o parâmetro n_estimators\n",
    "range_n_estimators = np.arange(100,1200,step=10)\n",
    "list_rmse=[]\n",
    "\n",
    "for value in range_n_estimators:\n",
    "    reg_xgb = xgb.XGBRegressor (learning_rate=0.246 ,max_depth=3, n_estimators=value)\n",
    "    reg_xgb.fit(X_train, y_train)\n",
    "    y_pred = reg_xgb.predict(X_test)\n",
    "    list_rmse.append(sqrt(mean_squared_error (y_test, y_pred)))\n",
    "    \n",
    "best_rmse=min(list_rmse)\n",
    "index = list_rmse.index(best_rmse)\n",
    "best_n_estimators = range_n_estimators[index]\n",
    "\n",
    "print('Melhor n_estimators: ' + str(best_n_estimators) + ' | Melhor RMSE: '+ str(best_rmse))    \n",
    "\n",
    "plt.figure(figsize=(20,7))\n",
    "sns.lineplot(x=range_n_estimators,y=list_rmse).set_title('RMSE x n_estimators');    "
   ]
  },
  {
   "cell_type": "code",
   "execution_count": 13,
   "metadata": {},
   "outputs": [
    {
     "name": "stdout",
     "output_type": "stream",
     "text": [
      "Melhor min_child_weight: 8 | Melhor RMSE: 78.96630645564811\n"
     ]
    },
    {
     "data": {
      "image/png": "[encoded data removed]",
      "text/plain": [
       "<Figure size 1440x504 with 1 Axes>"
      ]
     },
     "metadata": {
      "needs_background": "light"
     },
     "output_type": "display_data"
    }
   ],
   "source": [
    "# Avaliando o parâmetro min_child_weight\n",
    "range_min_child_weight = np.arange(1,21)\n",
    "list_rmse=[]\n",
    "\n",
    "for value in range_min_child_weight:\n",
    "    reg_xgb = xgb.XGBRegressor (learning_rate=0.246 ,max_depth=3, n_estimators=970, min_child_weight=value)\n",
    "    reg_xgb.fit(X_train, y_train)\n",
    "    y_pred = reg_xgb.predict(X_test)\n",
    "    list_rmse.append(sqrt(mean_squared_error (y_test, y_pred)))\n",
    "    \n",
    "best_rmse=min(list_rmse)\n",
    "index = list_rmse.index(best_rmse)\n",
    "best_min_child_weight = range_min_child_weight[index]\n",
    "\n",
    "print('Melhor min_child_weight: ' + str(best_min_child_weight) + ' | Melhor RMSE: '+ str(best_rmse))    \n",
    "\n",
    "plt.figure(figsize=(20,7))\n",
    "sns.pointplot(x=range_min_child_weight,y=list_rmse).set_title('RMSE x min_child_weight');"
   ]
  },
  {
   "cell_type": "markdown",
   "metadata": {},
   "source": [
    "Após a análise e obtenção dos valores, o treinamento será realizado utilizando os melhores parâmetros avaliados: learning_rate=0.246 ,max_depth=3, n_estimators=970 e min_child_weight=8."
   ]
  },
  {
   "cell_type": "code",
   "execution_count": 14,
   "metadata": {},
   "outputs": [
    {
     "data": {
      "text/plain": [
       "XGBRegressor(base_score=0.5, booster='gbtree', colsample_bylevel=1,\n",
       "             colsample_bynode=1, colsample_bytree=1, gamma=0, gpu_id=-1,\n",
       "             importance_type='gain', interaction_constraints='',\n",
       "             learning_rate=0.246, max_delta_step=0, max_depth=3,\n",
       "             min_child_weight=8, missing=nan, monotone_constraints='()',\n",
       "             n_estimators=970, n_jobs=0, num_parallel_tree=1,\n",
       "             objective='reg:squarederror', random_state=0, reg_alpha=0,\n",
       "             reg_lambda=1, scale_pos_weight=1, subsample=1, tree_method='exact',\n",
       "             validate_parameters=1, verbosity=None)"
      ]
     },
     "execution_count": 14,
     "metadata": {},
     "output_type": "execute_result"
    }
   ],
   "source": [
    "reg_xgb = xgb.XGBRegressor (learning_rate=0.246 ,max_depth=3, n_estimators=970, min_child_weight=8)\n",
    "reg_xgb.fit(X_train, y_train)"
   ]
  },
  {
   "cell_type": "markdown",
   "metadata": {},
   "source": [
    "# 4. Previsão\n",
    "\n",
    "Após o treinamento, com os parâmetros encontrado, será realizada a regressão. A seguir é possível visualizar o processo."
   ]
  },
  {
   "cell_type": "code",
   "execution_count": 15,
   "metadata": {},
   "outputs": [],
   "source": [
    "y_pred = reg_xgb.predict(X_test)"
   ]
  },
  {
   "cell_type": "markdown",
   "metadata": {},
   "source": [
    "# 5. Avaliação dos modelos\n",
    "\n",
    "Nesta sessão, é possível avaliar os resultados do modelo. foram utilizada as métricas RMSE, R², MSE, RMSPE(RMSE%) e Correlação(Cor)."
   ]
  },
  {
   "cell_type": "code",
   "execution_count": 16,
   "metadata": {},
   "outputs": [],
   "source": [
    "mse = mean_squared_error (y_test, y_pred)\n",
    "r2 = r2_score(y_test,y_pred)\n",
    "rmse = sqrt(mean_squared_error(y_test,y_pred))\n",
    "rmspe = np.sqrt(np.mean(np.square(((y_test - y_pred) / y_test)), axis=0))\n",
    "cor = np.corrcoef(y_test, y_pred)[0,1]"
   ]
  },
  {
   "cell_type": "code",
   "execution_count": 17,
   "metadata": {},
   "outputs": [
    {
     "name": "stdout",
     "output_type": "stream",
     "text": [
      "MSE: 6235.677555247332\n",
      "RMSE: 78.96630645564811\n",
      "RMSE%: 4.583635000567731\n",
      "R²: 0.9960923881804993\n",
      "Cor: 0.9980593043525711\n"
     ]
    }
   ],
   "source": [
    "print('MSE: ' + str(mse))\n",
    "print('RMSE: ' + str(rmse))\n",
    "print('RMSE%: ' + str(rmspe))\n",
    "print('R²: ' + str(r2))\n",
    "print('Cor: ' + str(cor))"
   ]
  },
  {
   "cell_type": "code",
   "execution_count": 18,
   "metadata": {},
   "outputs": [
    {
     "data": {
      "image/png": "[encoded data removed]",
      "text/plain": [
       "<Figure size 432x288 with 1 Axes>"
      ]
     },
     "metadata": {
      "needs_background": "light"
     },
     "output_type": "display_data"
    }
   ],
   "source": [
    "# plot regression\n",
    "r_squared = r2\n",
    "plt.scatter(y_test,y_pred)\n",
    "plt.xlabel('Actual values')\n",
    "plt.ylabel('Predicted values')\n",
    "\n",
    "plt.plot(np.unique(y_test), np.poly1d(np.polyfit(y_test, y_pred, 1))(np.unique(y_test)))\n",
    "\n",
    "plt.text(0.6, 0.5, 'R-squared = %0.2f' % r_squared);"
   ]
  },
  {
   "cell_type": "markdown",
   "metadata": {},
   "source": [
    "# 6. Importância das Variáveis\n",
    "\n",
    "Abaixo é possivel visualizar que a variável \"X2\" é a que apresenta o maior nível de importância, de acordo com o modelo. para isto, foi necessário utilizar o método \"feature_importances_\", do modelo XGboost, que mostra a importâncias de variáveis baseadas em impurezas, junto com sua variabilidade entre árvores."
   ]
  },
  {
   "cell_type": "code",
   "execution_count": 19,
   "metadata": {},
   "outputs": [
    {
     "data": {
      "image/png": "[encoded data removed]",
      "text/plain": [
       "<Figure size 432x288 with 1 Axes>"
      ]
     },
     "metadata": {
      "needs_background": "light"
     },
     "output_type": "display_data"
    }
   ],
   "source": [
    "feature_importance = pd.DataFrame(reg_xgb.feature_importances_.reshape(1, -1), columns=X_train.columns, index = ['importance']).transpose()\n",
    "feature_importance.plot.bar();"
   ]
  },
  {
   "cell_type": "code",
   "execution_count": null,
   "metadata": {},
   "outputs": [],
   "source": []
  }
 ],
 "metadata": {
  "kernelspec": {
   "display_name": "Python 3",
   "language": "python",
   "name": "python3"
  },
  "language_info": {
   "codemirror_mode": {
    "name": "ipython",
    "version": 3
   },
   "file_extension": ".py",
   "mimetype": "text/x-python",
   "name": "python",
   "nbconvert_exporter": "python",
   "pygments_lexer": "ipython3",
   "version": "3.7.4"
  }
 },
 "nbformat": 4,
 "nbformat_minor": 2
}
